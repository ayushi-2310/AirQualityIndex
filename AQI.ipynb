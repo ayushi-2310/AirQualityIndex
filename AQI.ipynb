{
  "nbformat": 4,
  "nbformat_minor": 0,
  "metadata": {
    "colab": {
      "name": "AQI.ipynb",
      "provenance": [],
      "collapsed_sections": [],
      "include_colab_link": true
    },
    "kernelspec": {
      "name": "python3",
      "display_name": "Python 3"
    },
    "language_info": {
      "name": "python"
    }
  },
  "cells": [
    {
      "cell_type": "markdown",
      "metadata": {
        "id": "view-in-github",
        "colab_type": "text"
      },
      "source": [
        "<a href=\"https://colab.research.google.com/github/ayushi-2310/AirQualityIndex/blob/main/AQI.ipynb\" target=\"_parent\"><img src=\"https://colab.research.google.com/assets/colab-badge.svg\" alt=\"Open In Colab\"/></a>"
      ]
    },
    {
      "cell_type": "markdown",
      "metadata": {
        "id": "rmO0o0AoWzuC"
      },
      "source": [
        "**AIR QUALITY INDEX OF INDIA**"
      ]
    },
    {
      "cell_type": "markdown",
      "metadata": {
        "id": "v3RsjNf5W_O4"
      },
      "source": [
        "mini project:\n",
        "\n",
        "objective\n",
        "\n",
        "describe\n",
        "\n",
        "shape\n",
        "\n",
        "tail\n",
        "\n",
        "head\n",
        "\n",
        "example: age range (min,max)\n",
        "\n",
        "missing values\n",
        "\n",
        "frequency(boolean masking)"
      ]
    },
    {
      "cell_type": "code",
      "metadata": {
        "id": "sIQ2IzopW98R"
      },
      "source": [
        "import numpy as np\n",
        "import pandas as pd"
      ],
      "execution_count": null,
      "outputs": []
    },
    {
      "cell_type": "code",
      "metadata": {
        "colab": {
          "base_uri": "https://localhost:8080/",
          "height": 423
        },
        "id": "Z_F647NaXHp3",
        "outputId": "190fa6b6-84ca-4493-bf15-27859d01e1a1"
      },
      "source": [
        "df=pd.read_csv('/content/Air_Quality.csv')\n",
        "df"
      ],
      "execution_count": 7,
      "outputs": [
        {
          "output_type": "execute_result",
          "data": {
            "text/html": [
              "<div>\n",
              "<style scoped>\n",
              "    .dataframe tbody tr th:only-of-type {\n",
              "        vertical-align: middle;\n",
              "    }\n",
              "\n",
              "    .dataframe tbody tr th {\n",
              "        vertical-align: top;\n",
              "    }\n",
              "\n",
              "    .dataframe thead th {\n",
              "        text-align: right;\n",
              "    }\n",
              "</style>\n",
              "<table border=\"1\" class=\"dataframe\">\n",
              "  <thead>\n",
              "    <tr style=\"text-align: right;\">\n",
              "      <th></th>\n",
              "      <th>id</th>\n",
              "      <th>country</th>\n",
              "      <th>state</th>\n",
              "      <th>city</th>\n",
              "      <th>station</th>\n",
              "      <th>pollutant_id</th>\n",
              "      <th>last_update</th>\n",
              "      <th>pollutant_min</th>\n",
              "      <th>pollutant_max</th>\n",
              "      <th>pollutant_avg</th>\n",
              "    </tr>\n",
              "  </thead>\n",
              "  <tbody>\n",
              "    <tr>\n",
              "      <th>0</th>\n",
              "      <td>1</td>\n",
              "      <td>India</td>\n",
              "      <td>Andhra_Pradesh</td>\n",
              "      <td>Amaravati</td>\n",
              "      <td>Secretariat, Amaravati - APPCB</td>\n",
              "      <td>PM2.5</td>\n",
              "      <td>21-10-2021 01:00:00</td>\n",
              "      <td>69.0</td>\n",
              "      <td>109.0</td>\n",
              "      <td>86.0</td>\n",
              "    </tr>\n",
              "    <tr>\n",
              "      <th>1</th>\n",
              "      <td>2</td>\n",
              "      <td>India</td>\n",
              "      <td>Andhra_Pradesh</td>\n",
              "      <td>Amaravati</td>\n",
              "      <td>Secretariat, Amaravati - APPCB</td>\n",
              "      <td>PM10</td>\n",
              "      <td>21-10-2021 01:00:00</td>\n",
              "      <td>82.0</td>\n",
              "      <td>138.0</td>\n",
              "      <td>105.0</td>\n",
              "    </tr>\n",
              "    <tr>\n",
              "      <th>2</th>\n",
              "      <td>3</td>\n",
              "      <td>India</td>\n",
              "      <td>Andhra_Pradesh</td>\n",
              "      <td>Amaravati</td>\n",
              "      <td>Secretariat, Amaravati - APPCB</td>\n",
              "      <td>NO2</td>\n",
              "      <td>21-10-2021 01:00:00</td>\n",
              "      <td>10.0</td>\n",
              "      <td>42.0</td>\n",
              "      <td>19.0</td>\n",
              "    </tr>\n",
              "    <tr>\n",
              "      <th>3</th>\n",
              "      <td>4</td>\n",
              "      <td>India</td>\n",
              "      <td>Andhra_Pradesh</td>\n",
              "      <td>Amaravati</td>\n",
              "      <td>Secretariat, Amaravati - APPCB</td>\n",
              "      <td>NH3</td>\n",
              "      <td>21-10-2021 01:00:00</td>\n",
              "      <td>4.0</td>\n",
              "      <td>5.0</td>\n",
              "      <td>4.0</td>\n",
              "    </tr>\n",
              "    <tr>\n",
              "      <th>4</th>\n",
              "      <td>5</td>\n",
              "      <td>India</td>\n",
              "      <td>Andhra_Pradesh</td>\n",
              "      <td>Amaravati</td>\n",
              "      <td>Secretariat, Amaravati - APPCB</td>\n",
              "      <td>SO2</td>\n",
              "      <td>21-10-2021 01:00:00</td>\n",
              "      <td>16.0</td>\n",
              "      <td>42.0</td>\n",
              "      <td>27.0</td>\n",
              "    </tr>\n",
              "    <tr>\n",
              "      <th>...</th>\n",
              "      <td>...</td>\n",
              "      <td>...</td>\n",
              "      <td>...</td>\n",
              "      <td>...</td>\n",
              "      <td>...</td>\n",
              "      <td>...</td>\n",
              "      <td>...</td>\n",
              "      <td>...</td>\n",
              "      <td>...</td>\n",
              "      <td>...</td>\n",
              "    </tr>\n",
              "    <tr>\n",
              "      <th>1831</th>\n",
              "      <td>1832</td>\n",
              "      <td>India</td>\n",
              "      <td>West_Bengal</td>\n",
              "      <td>Kolkata</td>\n",
              "      <td>Victoria, Kolkata - WBPCB</td>\n",
              "      <td>NO2</td>\n",
              "      <td>21-10-2021 01:00:00</td>\n",
              "      <td>10.0</td>\n",
              "      <td>22.0</td>\n",
              "      <td>15.0</td>\n",
              "    </tr>\n",
              "    <tr>\n",
              "      <th>1832</th>\n",
              "      <td>1833</td>\n",
              "      <td>India</td>\n",
              "      <td>West_Bengal</td>\n",
              "      <td>Kolkata</td>\n",
              "      <td>Victoria, Kolkata - WBPCB</td>\n",
              "      <td>NH3</td>\n",
              "      <td>21-10-2021 01:00:00</td>\n",
              "      <td>1.0</td>\n",
              "      <td>3.0</td>\n",
              "      <td>2.0</td>\n",
              "    </tr>\n",
              "    <tr>\n",
              "      <th>1833</th>\n",
              "      <td>1834</td>\n",
              "      <td>India</td>\n",
              "      <td>West_Bengal</td>\n",
              "      <td>Kolkata</td>\n",
              "      <td>Victoria, Kolkata - WBPCB</td>\n",
              "      <td>SO2</td>\n",
              "      <td>21-10-2021 01:00:00</td>\n",
              "      <td>6.0</td>\n",
              "      <td>28.0</td>\n",
              "      <td>10.0</td>\n",
              "    </tr>\n",
              "    <tr>\n",
              "      <th>1834</th>\n",
              "      <td>1835</td>\n",
              "      <td>India</td>\n",
              "      <td>West_Bengal</td>\n",
              "      <td>Kolkata</td>\n",
              "      <td>Victoria, Kolkata - WBPCB</td>\n",
              "      <td>CO</td>\n",
              "      <td>21-10-2021 01:00:00</td>\n",
              "      <td>34.0</td>\n",
              "      <td>92.0</td>\n",
              "      <td>41.0</td>\n",
              "    </tr>\n",
              "    <tr>\n",
              "      <th>1835</th>\n",
              "      <td>1836</td>\n",
              "      <td>India</td>\n",
              "      <td>West_Bengal</td>\n",
              "      <td>Kolkata</td>\n",
              "      <td>Victoria, Kolkata - WBPCB</td>\n",
              "      <td>OZONE</td>\n",
              "      <td>21-10-2021 01:00:00</td>\n",
              "      <td>10.0</td>\n",
              "      <td>116.0</td>\n",
              "      <td>43.0</td>\n",
              "    </tr>\n",
              "  </tbody>\n",
              "</table>\n",
              "<p>1836 rows × 10 columns</p>\n",
              "</div>"
            ],
            "text/plain": [
              "        id country           state  ... pollutant_min pollutant_max pollutant_avg\n",
              "0        1   India  Andhra_Pradesh  ...          69.0         109.0          86.0\n",
              "1        2   India  Andhra_Pradesh  ...          82.0         138.0         105.0\n",
              "2        3   India  Andhra_Pradesh  ...          10.0          42.0          19.0\n",
              "3        4   India  Andhra_Pradesh  ...           4.0           5.0           4.0\n",
              "4        5   India  Andhra_Pradesh  ...          16.0          42.0          27.0\n",
              "...    ...     ...             ...  ...           ...           ...           ...\n",
              "1831  1832   India     West_Bengal  ...          10.0          22.0          15.0\n",
              "1832  1833   India     West_Bengal  ...           1.0           3.0           2.0\n",
              "1833  1834   India     West_Bengal  ...           6.0          28.0          10.0\n",
              "1834  1835   India     West_Bengal  ...          34.0          92.0          41.0\n",
              "1835  1836   India     West_Bengal  ...          10.0         116.0          43.0\n",
              "\n",
              "[1836 rows x 10 columns]"
            ]
          },
          "metadata": {},
          "execution_count": 7
        }
      ]
    },
    {
      "cell_type": "code",
      "metadata": {
        "id": "kZUjJ9BuXL1z",
        "colab": {
          "base_uri": "https://localhost:8080/"
        },
        "outputId": "dfc07b4e-f9e0-44c3-dbd1-a911ef7db073"
      },
      "source": [
        "df.axes[1]"
      ],
      "execution_count": 8,
      "outputs": [
        {
          "output_type": "execute_result",
          "data": {
            "text/plain": [
              "Index(['id', 'country', 'state', 'city', 'station', 'pollutant_id',\n",
              "       'last_update', 'pollutant_min', 'pollutant_max', 'pollutant_avg'],\n",
              "      dtype='object')"
            ]
          },
          "metadata": {},
          "execution_count": 8
        }
      ]
    },
    {
      "cell_type": "code",
      "metadata": {
        "id": "VECMYLyFXmx5",
        "colab": {
          "base_uri": "https://localhost:8080/"
        },
        "outputId": "0173cbca-8dc7-40c3-a214-e5b785d34786"
      },
      "source": [
        "df.shape"
      ],
      "execution_count": 10,
      "outputs": [
        {
          "output_type": "execute_result",
          "data": {
            "text/plain": [
              "(1836, 10)"
            ]
          },
          "metadata": {},
          "execution_count": 10
        }
      ]
    },
    {
      "cell_type": "code",
      "metadata": {
        "colab": {
          "base_uri": "https://localhost:8080/",
          "height": 206
        },
        "id": "NCDoIMflXw0_",
        "outputId": "9be8ee63-2939-4953-d7ab-10be15ea3371"
      },
      "source": [
        "df.head()"
      ],
      "execution_count": 11,
      "outputs": [
        {
          "output_type": "execute_result",
          "data": {
            "text/html": [
              "<div>\n",
              "<style scoped>\n",
              "    .dataframe tbody tr th:only-of-type {\n",
              "        vertical-align: middle;\n",
              "    }\n",
              "\n",
              "    .dataframe tbody tr th {\n",
              "        vertical-align: top;\n",
              "    }\n",
              "\n",
              "    .dataframe thead th {\n",
              "        text-align: right;\n",
              "    }\n",
              "</style>\n",
              "<table border=\"1\" class=\"dataframe\">\n",
              "  <thead>\n",
              "    <tr style=\"text-align: right;\">\n",
              "      <th></th>\n",
              "      <th>id</th>\n",
              "      <th>country</th>\n",
              "      <th>state</th>\n",
              "      <th>city</th>\n",
              "      <th>station</th>\n",
              "      <th>pollutant_id</th>\n",
              "      <th>last_update</th>\n",
              "      <th>pollutant_min</th>\n",
              "      <th>pollutant_max</th>\n",
              "      <th>pollutant_avg</th>\n",
              "    </tr>\n",
              "  </thead>\n",
              "  <tbody>\n",
              "    <tr>\n",
              "      <th>0</th>\n",
              "      <td>1</td>\n",
              "      <td>India</td>\n",
              "      <td>Andhra_Pradesh</td>\n",
              "      <td>Amaravati</td>\n",
              "      <td>Secretariat, Amaravati - APPCB</td>\n",
              "      <td>PM2.5</td>\n",
              "      <td>21-10-2021 01:00:00</td>\n",
              "      <td>69.0</td>\n",
              "      <td>109.0</td>\n",
              "      <td>86.0</td>\n",
              "    </tr>\n",
              "    <tr>\n",
              "      <th>1</th>\n",
              "      <td>2</td>\n",
              "      <td>India</td>\n",
              "      <td>Andhra_Pradesh</td>\n",
              "      <td>Amaravati</td>\n",
              "      <td>Secretariat, Amaravati - APPCB</td>\n",
              "      <td>PM10</td>\n",
              "      <td>21-10-2021 01:00:00</td>\n",
              "      <td>82.0</td>\n",
              "      <td>138.0</td>\n",
              "      <td>105.0</td>\n",
              "    </tr>\n",
              "    <tr>\n",
              "      <th>2</th>\n",
              "      <td>3</td>\n",
              "      <td>India</td>\n",
              "      <td>Andhra_Pradesh</td>\n",
              "      <td>Amaravati</td>\n",
              "      <td>Secretariat, Amaravati - APPCB</td>\n",
              "      <td>NO2</td>\n",
              "      <td>21-10-2021 01:00:00</td>\n",
              "      <td>10.0</td>\n",
              "      <td>42.0</td>\n",
              "      <td>19.0</td>\n",
              "    </tr>\n",
              "    <tr>\n",
              "      <th>3</th>\n",
              "      <td>4</td>\n",
              "      <td>India</td>\n",
              "      <td>Andhra_Pradesh</td>\n",
              "      <td>Amaravati</td>\n",
              "      <td>Secretariat, Amaravati - APPCB</td>\n",
              "      <td>NH3</td>\n",
              "      <td>21-10-2021 01:00:00</td>\n",
              "      <td>4.0</td>\n",
              "      <td>5.0</td>\n",
              "      <td>4.0</td>\n",
              "    </tr>\n",
              "    <tr>\n",
              "      <th>4</th>\n",
              "      <td>5</td>\n",
              "      <td>India</td>\n",
              "      <td>Andhra_Pradesh</td>\n",
              "      <td>Amaravati</td>\n",
              "      <td>Secretariat, Amaravati - APPCB</td>\n",
              "      <td>SO2</td>\n",
              "      <td>21-10-2021 01:00:00</td>\n",
              "      <td>16.0</td>\n",
              "      <td>42.0</td>\n",
              "      <td>27.0</td>\n",
              "    </tr>\n",
              "  </tbody>\n",
              "</table>\n",
              "</div>"
            ],
            "text/plain": [
              "   id country           state  ... pollutant_min pollutant_max pollutant_avg\n",
              "0   1   India  Andhra_Pradesh  ...          69.0         109.0          86.0\n",
              "1   2   India  Andhra_Pradesh  ...          82.0         138.0         105.0\n",
              "2   3   India  Andhra_Pradesh  ...          10.0          42.0          19.0\n",
              "3   4   India  Andhra_Pradesh  ...           4.0           5.0           4.0\n",
              "4   5   India  Andhra_Pradesh  ...          16.0          42.0          27.0\n",
              "\n",
              "[5 rows x 10 columns]"
            ]
          },
          "metadata": {},
          "execution_count": 11
        }
      ]
    },
    {
      "cell_type": "code",
      "metadata": {
        "id": "FO2UikLHYGBQ",
        "colab": {
          "base_uri": "https://localhost:8080/",
          "height": 206
        },
        "outputId": "0e98f62d-489b-4000-d80d-77c605cf57ea"
      },
      "source": [
        "df.tail()"
      ],
      "execution_count": 12,
      "outputs": [
        {
          "output_type": "execute_result",
          "data": {
            "text/html": [
              "<div>\n",
              "<style scoped>\n",
              "    .dataframe tbody tr th:only-of-type {\n",
              "        vertical-align: middle;\n",
              "    }\n",
              "\n",
              "    .dataframe tbody tr th {\n",
              "        vertical-align: top;\n",
              "    }\n",
              "\n",
              "    .dataframe thead th {\n",
              "        text-align: right;\n",
              "    }\n",
              "</style>\n",
              "<table border=\"1\" class=\"dataframe\">\n",
              "  <thead>\n",
              "    <tr style=\"text-align: right;\">\n",
              "      <th></th>\n",
              "      <th>id</th>\n",
              "      <th>country</th>\n",
              "      <th>state</th>\n",
              "      <th>city</th>\n",
              "      <th>station</th>\n",
              "      <th>pollutant_id</th>\n",
              "      <th>last_update</th>\n",
              "      <th>pollutant_min</th>\n",
              "      <th>pollutant_max</th>\n",
              "      <th>pollutant_avg</th>\n",
              "    </tr>\n",
              "  </thead>\n",
              "  <tbody>\n",
              "    <tr>\n",
              "      <th>1831</th>\n",
              "      <td>1832</td>\n",
              "      <td>India</td>\n",
              "      <td>West_Bengal</td>\n",
              "      <td>Kolkata</td>\n",
              "      <td>Victoria, Kolkata - WBPCB</td>\n",
              "      <td>NO2</td>\n",
              "      <td>21-10-2021 01:00:00</td>\n",
              "      <td>10.0</td>\n",
              "      <td>22.0</td>\n",
              "      <td>15.0</td>\n",
              "    </tr>\n",
              "    <tr>\n",
              "      <th>1832</th>\n",
              "      <td>1833</td>\n",
              "      <td>India</td>\n",
              "      <td>West_Bengal</td>\n",
              "      <td>Kolkata</td>\n",
              "      <td>Victoria, Kolkata - WBPCB</td>\n",
              "      <td>NH3</td>\n",
              "      <td>21-10-2021 01:00:00</td>\n",
              "      <td>1.0</td>\n",
              "      <td>3.0</td>\n",
              "      <td>2.0</td>\n",
              "    </tr>\n",
              "    <tr>\n",
              "      <th>1833</th>\n",
              "      <td>1834</td>\n",
              "      <td>India</td>\n",
              "      <td>West_Bengal</td>\n",
              "      <td>Kolkata</td>\n",
              "      <td>Victoria, Kolkata - WBPCB</td>\n",
              "      <td>SO2</td>\n",
              "      <td>21-10-2021 01:00:00</td>\n",
              "      <td>6.0</td>\n",
              "      <td>28.0</td>\n",
              "      <td>10.0</td>\n",
              "    </tr>\n",
              "    <tr>\n",
              "      <th>1834</th>\n",
              "      <td>1835</td>\n",
              "      <td>India</td>\n",
              "      <td>West_Bengal</td>\n",
              "      <td>Kolkata</td>\n",
              "      <td>Victoria, Kolkata - WBPCB</td>\n",
              "      <td>CO</td>\n",
              "      <td>21-10-2021 01:00:00</td>\n",
              "      <td>34.0</td>\n",
              "      <td>92.0</td>\n",
              "      <td>41.0</td>\n",
              "    </tr>\n",
              "    <tr>\n",
              "      <th>1835</th>\n",
              "      <td>1836</td>\n",
              "      <td>India</td>\n",
              "      <td>West_Bengal</td>\n",
              "      <td>Kolkata</td>\n",
              "      <td>Victoria, Kolkata - WBPCB</td>\n",
              "      <td>OZONE</td>\n",
              "      <td>21-10-2021 01:00:00</td>\n",
              "      <td>10.0</td>\n",
              "      <td>116.0</td>\n",
              "      <td>43.0</td>\n",
              "    </tr>\n",
              "  </tbody>\n",
              "</table>\n",
              "</div>"
            ],
            "text/plain": [
              "        id country        state  ... pollutant_min pollutant_max pollutant_avg\n",
              "1831  1832   India  West_Bengal  ...          10.0          22.0          15.0\n",
              "1832  1833   India  West_Bengal  ...           1.0           3.0           2.0\n",
              "1833  1834   India  West_Bengal  ...           6.0          28.0          10.0\n",
              "1834  1835   India  West_Bengal  ...          34.0          92.0          41.0\n",
              "1835  1836   India  West_Bengal  ...          10.0         116.0          43.0\n",
              "\n",
              "[5 rows x 10 columns]"
            ]
          },
          "metadata": {},
          "execution_count": 12
        }
      ]
    },
    {
      "cell_type": "code",
      "metadata": {
        "colab": {
          "base_uri": "https://localhost:8080/"
        },
        "id": "H4OuzJYdYjAi",
        "outputId": "13032b26-5d53-4b6e-e48c-0503e9a6cfa8"
      },
      "source": [
        "df.rank"
      ],
      "execution_count": 14,
      "outputs": [
        {
          "output_type": "execute_result",
          "data": {
            "text/plain": [
              "<bound method NDFrame.rank of         id country           state  ... pollutant_min pollutant_max pollutant_avg\n",
              "0        1   India  Andhra_Pradesh  ...          69.0         109.0          86.0\n",
              "1        2   India  Andhra_Pradesh  ...          82.0         138.0         105.0\n",
              "2        3   India  Andhra_Pradesh  ...          10.0          42.0          19.0\n",
              "3        4   India  Andhra_Pradesh  ...           4.0           5.0           4.0\n",
              "4        5   India  Andhra_Pradesh  ...          16.0          42.0          27.0\n",
              "...    ...     ...             ...  ...           ...           ...           ...\n",
              "1831  1832   India     West_Bengal  ...          10.0          22.0          15.0\n",
              "1832  1833   India     West_Bengal  ...           1.0           3.0           2.0\n",
              "1833  1834   India     West_Bengal  ...           6.0          28.0          10.0\n",
              "1834  1835   India     West_Bengal  ...          34.0          92.0          41.0\n",
              "1835  1836   India     West_Bengal  ...          10.0         116.0          43.0\n",
              "\n",
              "[1836 rows x 10 columns]>"
            ]
          },
          "metadata": {},
          "execution_count": 14
        }
      ]
    },
    {
      "cell_type": "code",
      "metadata": {
        "colab": {
          "base_uri": "https://localhost:8080/",
          "height": 175
        },
        "id": "LltqqVsuacT_",
        "outputId": "6024b5a5-0f85-4134-d70e-2e0dff3c810d"
      },
      "source": [
        "df.iloc[1:5]"
      ],
      "execution_count": 16,
      "outputs": [
        {
          "output_type": "execute_result",
          "data": {
            "text/html": [
              "<div>\n",
              "<style scoped>\n",
              "    .dataframe tbody tr th:only-of-type {\n",
              "        vertical-align: middle;\n",
              "    }\n",
              "\n",
              "    .dataframe tbody tr th {\n",
              "        vertical-align: top;\n",
              "    }\n",
              "\n",
              "    .dataframe thead th {\n",
              "        text-align: right;\n",
              "    }\n",
              "</style>\n",
              "<table border=\"1\" class=\"dataframe\">\n",
              "  <thead>\n",
              "    <tr style=\"text-align: right;\">\n",
              "      <th></th>\n",
              "      <th>id</th>\n",
              "      <th>country</th>\n",
              "      <th>state</th>\n",
              "      <th>city</th>\n",
              "      <th>station</th>\n",
              "      <th>pollutant_id</th>\n",
              "      <th>last_update</th>\n",
              "      <th>pollutant_min</th>\n",
              "      <th>pollutant_max</th>\n",
              "      <th>pollutant_avg</th>\n",
              "    </tr>\n",
              "  </thead>\n",
              "  <tbody>\n",
              "    <tr>\n",
              "      <th>1</th>\n",
              "      <td>2</td>\n",
              "      <td>India</td>\n",
              "      <td>Andhra_Pradesh</td>\n",
              "      <td>Amaravati</td>\n",
              "      <td>Secretariat, Amaravati - APPCB</td>\n",
              "      <td>PM10</td>\n",
              "      <td>21-10-2021 01:00:00</td>\n",
              "      <td>82.0</td>\n",
              "      <td>138.0</td>\n",
              "      <td>105.0</td>\n",
              "    </tr>\n",
              "    <tr>\n",
              "      <th>2</th>\n",
              "      <td>3</td>\n",
              "      <td>India</td>\n",
              "      <td>Andhra_Pradesh</td>\n",
              "      <td>Amaravati</td>\n",
              "      <td>Secretariat, Amaravati - APPCB</td>\n",
              "      <td>NO2</td>\n",
              "      <td>21-10-2021 01:00:00</td>\n",
              "      <td>10.0</td>\n",
              "      <td>42.0</td>\n",
              "      <td>19.0</td>\n",
              "    </tr>\n",
              "    <tr>\n",
              "      <th>3</th>\n",
              "      <td>4</td>\n",
              "      <td>India</td>\n",
              "      <td>Andhra_Pradesh</td>\n",
              "      <td>Amaravati</td>\n",
              "      <td>Secretariat, Amaravati - APPCB</td>\n",
              "      <td>NH3</td>\n",
              "      <td>21-10-2021 01:00:00</td>\n",
              "      <td>4.0</td>\n",
              "      <td>5.0</td>\n",
              "      <td>4.0</td>\n",
              "    </tr>\n",
              "    <tr>\n",
              "      <th>4</th>\n",
              "      <td>5</td>\n",
              "      <td>India</td>\n",
              "      <td>Andhra_Pradesh</td>\n",
              "      <td>Amaravati</td>\n",
              "      <td>Secretariat, Amaravati - APPCB</td>\n",
              "      <td>SO2</td>\n",
              "      <td>21-10-2021 01:00:00</td>\n",
              "      <td>16.0</td>\n",
              "      <td>42.0</td>\n",
              "      <td>27.0</td>\n",
              "    </tr>\n",
              "  </tbody>\n",
              "</table>\n",
              "</div>"
            ],
            "text/plain": [
              "   id country           state  ... pollutant_min pollutant_max pollutant_avg\n",
              "1   2   India  Andhra_Pradesh  ...          82.0         138.0         105.0\n",
              "2   3   India  Andhra_Pradesh  ...          10.0          42.0          19.0\n",
              "3   4   India  Andhra_Pradesh  ...           4.0           5.0           4.0\n",
              "4   5   India  Andhra_Pradesh  ...          16.0          42.0          27.0\n",
              "\n",
              "[4 rows x 10 columns]"
            ]
          },
          "metadata": {},
          "execution_count": 16
        }
      ]
    },
    {
      "cell_type": "code",
      "metadata": {
        "id": "CDv62p-oaom7"
      },
      "source": [
        ""
      ],
      "execution_count": null,
      "outputs": []
    }
  ]
}