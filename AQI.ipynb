{
  "nbformat": 4,
  "nbformat_minor": 0,
  "metadata": {
    "colab": {
      "name": "AQI.ipynb",
      "provenance": [],
      "include_colab_link": true
    },
    "kernelspec": {
      "name": "python3",
      "display_name": "Python 3"
    },
    "language_info": {
      "name": "python"
    }
  },
  "cells": [
    {
      "cell_type": "markdown",
      "metadata": {
        "id": "view-in-github",
        "colab_type": "text"
      },
      "source": [
        "<a href=\"https://colab.research.google.com/github/ayushi-2310/AirQualityIndex/blob/main/AQI.ipynb\" target=\"_parent\"><img src=\"https://colab.research.google.com/assets/colab-badge.svg\" alt=\"Open In Colab\"/></a>"
      ]
    },
    {
      "cell_type": "markdown",
      "metadata": {
        "id": "aRUZ59keRnFV"
      },
      "source": [
        "\n",
        "\n",
        "*AIR QUALITY INDEX OF INDIA*\n",
        "\n"
      ]
    },
    {
      "cell_type": "markdown",
      "metadata": {
        "id": "7Lj0xwwGS1q_"
      },
      "source": [
        "mini project:\n",
        "\n",
        "objective\n",
        "\n",
        "describe\n",
        "\n",
        "shape\n",
        "\n",
        "tail\n",
        "\n",
        "head\n",
        "\n",
        "example: age range (min,max)\n",
        "\n",
        "missing values\n",
        "\n",
        "frequency(boolean masking)\n"
      ]
    },
    {
      "cell_type": "code",
      "metadata": {
        "id": "x1-b8y2lQSAV"
      },
      "source": [
        ""
      ],
      "execution_count": null,
      "outputs": []
    }
  ]
}